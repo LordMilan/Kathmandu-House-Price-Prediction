{
 "cells": [
  {
   "cell_type": "markdown",
   "metadata": {},
   "source": [
    "## HOUSE PRICE PREDICTION"
   ]
  },
  {
   "cell_type": "code",
   "execution_count": 1,
   "metadata": {},
   "outputs": [],
   "source": [
    "import pandas as pd\n",
    "import numpy as np"
   ]
  },
  {
   "cell_type": "code",
   "execution_count": 2,
   "metadata": {},
   "outputs": [],
   "source": [
    "housing = pd.read_csv(\"kathmandudata.csv\")"
   ]
  },
  {
   "cell_type": "code",
   "execution_count": 3,
   "metadata": {},
   "outputs": [
    {
     "data": {
      "text/html": [
       "<div>\n",
       "<style scoped>\n",
       "    .dataframe tbody tr th:only-of-type {\n",
       "        vertical-align: middle;\n",
       "    }\n",
       "\n",
       "    .dataframe tbody tr th {\n",
       "        vertical-align: top;\n",
       "    }\n",
       "\n",
       "    .dataframe thead th {\n",
       "        text-align: right;\n",
       "    }\n",
       "</style>\n",
       "<table border=\"1\" class=\"dataframe\">\n",
       "  <thead>\n",
       "    <tr style=\"text-align: right;\">\n",
       "      <th></th>\n",
       "      <th>bedroom</th>\n",
       "      <th>bathroom</th>\n",
       "      <th>floors</th>\n",
       "      <th>parking</th>\n",
       "      <th>location</th>\n",
       "      <th>dhur</th>\n",
       "      <th>Aana</th>\n",
       "      <th>Paisa</th>\n",
       "      <th>Daam</th>\n",
       "      <th>roadsize(feet)</th>\n",
       "      <th>Road type</th>\n",
       "      <th>Years ago</th>\n",
       "      <th>Area(sq ft)</th>\n",
       "      <th>Price</th>\n",
       "    </tr>\n",
       "  </thead>\n",
       "  <tbody>\n",
       "    <tr>\n",
       "      <th>0</th>\n",
       "      <td>0</td>\n",
       "      <td>0</td>\n",
       "      <td>NaN</td>\n",
       "      <td>0</td>\n",
       "      <td>Chyasingdol, Pasikot, Kathmandu</td>\n",
       "      <td>0</td>\n",
       "      <td>7.0</td>\n",
       "      <td>2.0</td>\n",
       "      <td>0.0</td>\n",
       "      <td>20.0</td>\n",
       "      <td>Soil Stabilized</td>\n",
       "      <td>2.0</td>\n",
       "      <td>2566.87</td>\n",
       "      <td>36000000</td>\n",
       "    </tr>\n",
       "    <tr>\n",
       "      <th>1</th>\n",
       "      <td>4</td>\n",
       "      <td>3</td>\n",
       "      <td>2.5</td>\n",
       "      <td>1</td>\n",
       "      <td>Nearby, Buddha party palace, Imadol, Lalitpur</td>\n",
       "      <td>0</td>\n",
       "      <td>3.0</td>\n",
       "      <td>0.0</td>\n",
       "      <td>0.0</td>\n",
       "      <td>13.0</td>\n",
       "      <td>Gravelled</td>\n",
       "      <td>2.0</td>\n",
       "      <td>1026.75</td>\n",
       "      <td>18000000</td>\n",
       "    </tr>\n",
       "    <tr>\n",
       "      <th>2</th>\n",
       "      <td>4</td>\n",
       "      <td>3</td>\n",
       "      <td>3.0</td>\n",
       "      <td>0</td>\n",
       "      <td>Nayabasti, Imadol, Lalitpur</td>\n",
       "      <td>0</td>\n",
       "      <td>2.0</td>\n",
       "      <td>2.0</td>\n",
       "      <td>0.0</td>\n",
       "      <td>13.0</td>\n",
       "      <td>Gravelled</td>\n",
       "      <td>2.0</td>\n",
       "      <td>855.62</td>\n",
       "      <td>15000000</td>\n",
       "    </tr>\n",
       "    <tr>\n",
       "      <th>3</th>\n",
       "      <td>7</td>\n",
       "      <td>5</td>\n",
       "      <td>2.0</td>\n",
       "      <td>3</td>\n",
       "      <td>Rudreshwor, Budhanilkantha, Kathmandu</td>\n",
       "      <td>12</td>\n",
       "      <td>NaN</td>\n",
       "      <td>NaN</td>\n",
       "      <td>NaN</td>\n",
       "      <td>15.0</td>\n",
       "      <td>Blacktopped</td>\n",
       "      <td>1.0</td>\n",
       "      <td>2187.00</td>\n",
       "      <td>57000000</td>\n",
       "    </tr>\n",
       "    <tr>\n",
       "      <th>4</th>\n",
       "      <td>7</td>\n",
       "      <td>3</td>\n",
       "      <td>2.5</td>\n",
       "      <td>3</td>\n",
       "      <td>Bafal, Bafal, Kathmandu</td>\n",
       "      <td>0</td>\n",
       "      <td>4.0</td>\n",
       "      <td>2.0</td>\n",
       "      <td>0.0</td>\n",
       "      <td>13.0</td>\n",
       "      <td>Blacktopped</td>\n",
       "      <td>1.0</td>\n",
       "      <td>1540.12</td>\n",
       "      <td>24500000</td>\n",
       "    </tr>\n",
       "  </tbody>\n",
       "</table>\n",
       "</div>"
      ],
      "text/plain": [
       "   bedroom  bathroom  floors  parking  \\\n",
       "0        0         0     NaN        0   \n",
       "1        4         3     2.5        1   \n",
       "2        4         3     3.0        0   \n",
       "3        7         5     2.0        3   \n",
       "4        7         3     2.5        3   \n",
       "\n",
       "                                        location dhur  Aana  Paisa  Daam  \\\n",
       "0                Chyasingdol, Pasikot, Kathmandu    0   7.0    2.0   0.0   \n",
       "1  Nearby, Buddha party palace, Imadol, Lalitpur    0   3.0    0.0   0.0   \n",
       "2                    Nayabasti, Imadol, Lalitpur    0   2.0    2.0   0.0   \n",
       "3          Rudreshwor, Budhanilkantha, Kathmandu   12   NaN    NaN   NaN   \n",
       "4                        Bafal, Bafal, Kathmandu    0   4.0    2.0   0.0   \n",
       "\n",
       "   roadsize(feet)        Road type  Years ago  Area(sq ft)     Price  \n",
       "0            20.0  Soil Stabilized        2.0      2566.87  36000000  \n",
       "1            13.0        Gravelled        2.0      1026.75  18000000  \n",
       "2            13.0        Gravelled        2.0       855.62  15000000  \n",
       "3            15.0      Blacktopped        1.0      2187.00  57000000  \n",
       "4            13.0      Blacktopped        1.0      1540.12  24500000  "
      ]
     },
     "execution_count": 3,
     "metadata": {},
     "output_type": "execute_result"
    }
   ],
   "source": [
    "#housing.head()"
   ]
  },
  {
   "cell_type": "markdown",
   "metadata": {},
   "source": [
    "# Dropping unnecessary columns\n",
    "1. Location is out of our scope, so it is dropped.\n",
    "2. Dhur, Aana, Paisa and Daam is dropped as we have already converted them into square feet."
   ]
  },
  {
   "cell_type": "code",
   "execution_count": 4,
   "metadata": {},
   "outputs": [],
   "source": [
    "housing.drop(['location', 'dhur', 'Aana', 'Paisa', 'Daam', 'Years ago'], axis = 1, inplace = True)"
   ]
  },
  {
   "cell_type": "code",
   "execution_count": 5,
   "metadata": {
    "scrolled": true
   },
   "outputs": [
    {
     "data": {
      "text/html": [
       "<div>\n",
       "<style scoped>\n",
       "    .dataframe tbody tr th:only-of-type {\n",
       "        vertical-align: middle;\n",
       "    }\n",
       "\n",
       "    .dataframe tbody tr th {\n",
       "        vertical-align: top;\n",
       "    }\n",
       "\n",
       "    .dataframe thead th {\n",
       "        text-align: right;\n",
       "    }\n",
       "</style>\n",
       "<table border=\"1\" class=\"dataframe\">\n",
       "  <thead>\n",
       "    <tr style=\"text-align: right;\">\n",
       "      <th></th>\n",
       "      <th>bedroom</th>\n",
       "      <th>bathroom</th>\n",
       "      <th>floors</th>\n",
       "      <th>parking</th>\n",
       "      <th>roadsize(feet)</th>\n",
       "      <th>Road type</th>\n",
       "      <th>Area(sq ft)</th>\n",
       "      <th>Price</th>\n",
       "    </tr>\n",
       "  </thead>\n",
       "  <tbody>\n",
       "    <tr>\n",
       "      <th>0</th>\n",
       "      <td>0</td>\n",
       "      <td>0</td>\n",
       "      <td>NaN</td>\n",
       "      <td>0</td>\n",
       "      <td>20.0</td>\n",
       "      <td>Soil Stabilized</td>\n",
       "      <td>2566.87</td>\n",
       "      <td>36000000</td>\n",
       "    </tr>\n",
       "    <tr>\n",
       "      <th>1</th>\n",
       "      <td>4</td>\n",
       "      <td>3</td>\n",
       "      <td>2.5</td>\n",
       "      <td>1</td>\n",
       "      <td>13.0</td>\n",
       "      <td>Gravelled</td>\n",
       "      <td>1026.75</td>\n",
       "      <td>18000000</td>\n",
       "    </tr>\n",
       "    <tr>\n",
       "      <th>2</th>\n",
       "      <td>4</td>\n",
       "      <td>3</td>\n",
       "      <td>3.0</td>\n",
       "      <td>0</td>\n",
       "      <td>13.0</td>\n",
       "      <td>Gravelled</td>\n",
       "      <td>855.62</td>\n",
       "      <td>15000000</td>\n",
       "    </tr>\n",
       "    <tr>\n",
       "      <th>3</th>\n",
       "      <td>7</td>\n",
       "      <td>5</td>\n",
       "      <td>2.0</td>\n",
       "      <td>3</td>\n",
       "      <td>15.0</td>\n",
       "      <td>Blacktopped</td>\n",
       "      <td>2187.00</td>\n",
       "      <td>57000000</td>\n",
       "    </tr>\n",
       "    <tr>\n",
       "      <th>4</th>\n",
       "      <td>7</td>\n",
       "      <td>3</td>\n",
       "      <td>2.5</td>\n",
       "      <td>3</td>\n",
       "      <td>13.0</td>\n",
       "      <td>Blacktopped</td>\n",
       "      <td>1540.12</td>\n",
       "      <td>24500000</td>\n",
       "    </tr>\n",
       "  </tbody>\n",
       "</table>\n",
       "</div>"
      ],
      "text/plain": [
       "   bedroom  bathroom  floors  parking  roadsize(feet)        Road type  \\\n",
       "0        0         0     NaN        0            20.0  Soil Stabilized   \n",
       "1        4         3     2.5        1            13.0        Gravelled   \n",
       "2        4         3     3.0        0            13.0        Gravelled   \n",
       "3        7         5     2.0        3            15.0      Blacktopped   \n",
       "4        7         3     2.5        3            13.0      Blacktopped   \n",
       "\n",
       "   Area(sq ft)     Price  \n",
       "0      2566.87  36000000  \n",
       "1      1026.75  18000000  \n",
       "2       855.62  15000000  \n",
       "3      2187.00  57000000  \n",
       "4      1540.12  24500000  "
      ]
     },
     "execution_count": 5,
     "metadata": {},
     "output_type": "execute_result"
    }
   ],
   "source": [
    "#housing.head()"
   ]
  },
  {
   "cell_type": "code",
   "execution_count": 6,
   "metadata": {
    "scrolled": true
   },
   "outputs": [
    {
     "data": {
      "text/plain": [
       "bedroom                   0\n",
       "bathroom                  0\n",
       "floors                  NaN\n",
       "parking                   0\n",
       "roadsize(feet)         12.0\n",
       "Road type         Gravelled\n",
       "Area(sq ft)         1090.92\n",
       "Price              11500000\n",
       "Name: 6, dtype: object"
      ]
     },
     "execution_count": 6,
     "metadata": {},
     "output_type": "execute_result"
    }
   ],
   "source": [
    "#housing.loc[6]"
   ]
  },
  {
   "cell_type": "code",
   "execution_count": 7,
   "metadata": {},
   "outputs": [
    {
     "data": {
      "text/plain": [
       "3.00    552\n",
       "2.00    127\n",
       "2.50    113\n",
       "4.00     57\n",
       "1.00     49\n",
       "1.50     23\n",
       "3.50     14\n",
       "5.00      7\n",
       "6.00      3\n",
       "0.00      2\n",
       "1.35      1\n",
       "Name: floors, dtype: int64"
      ]
     },
     "execution_count": 7,
     "metadata": {},
     "output_type": "execute_result"
    }
   ],
   "source": [
    "#housing['floors'].value_counts()"
   ]
  },
  {
   "cell_type": "code",
   "execution_count": 8,
   "metadata": {},
   "outputs": [
    {
     "data": {
      "text/plain": [
       "0    685\n",
       "3    259\n",
       "4    245\n",
       "5    163\n",
       "6     90\n",
       "2     81\n",
       "1     75\n",
       "7     22\n",
       "8      4\n",
       "Name: bathroom, dtype: int64"
      ]
     },
     "execution_count": 8,
     "metadata": {},
     "output_type": "execute_result"
    }
   ],
   "source": [
    "#housing['bathroom'].value_counts()"
   ]
  },
  {
   "cell_type": "code",
   "execution_count": 9,
   "metadata": {},
   "outputs": [
    {
     "data": {
      "text/html": [
       "<div>\n",
       "<style scoped>\n",
       "    .dataframe tbody tr th:only-of-type {\n",
       "        vertical-align: middle;\n",
       "    }\n",
       "\n",
       "    .dataframe tbody tr th {\n",
       "        vertical-align: top;\n",
       "    }\n",
       "\n",
       "    .dataframe thead th {\n",
       "        text-align: right;\n",
       "    }\n",
       "</style>\n",
       "<table border=\"1\" class=\"dataframe\">\n",
       "  <thead>\n",
       "    <tr style=\"text-align: right;\">\n",
       "      <th></th>\n",
       "      <th>bedroom</th>\n",
       "      <th>bathroom</th>\n",
       "      <th>floors</th>\n",
       "      <th>parking</th>\n",
       "      <th>roadsize(feet)</th>\n",
       "      <th>Area(sq ft)</th>\n",
       "      <th>Price</th>\n",
       "    </tr>\n",
       "  </thead>\n",
       "  <tbody>\n",
       "    <tr>\n",
       "      <th>count</th>\n",
       "      <td>1624.000000</td>\n",
       "      <td>1624.000000</td>\n",
       "      <td>948.000000</td>\n",
       "      <td>1624.000000</td>\n",
       "      <td>1624.000000</td>\n",
       "      <td>1624.000000</td>\n",
       "      <td>1.624000e+03</td>\n",
       "    </tr>\n",
       "    <tr>\n",
       "      <th>mean</th>\n",
       "      <td>3.015394</td>\n",
       "      <td>2.176724</td>\n",
       "      <td>2.750369</td>\n",
       "      <td>0.998768</td>\n",
       "      <td>12.255429</td>\n",
       "      <td>1369.061418</td>\n",
       "      <td>2.659940e+07</td>\n",
       "    </tr>\n",
       "    <tr>\n",
       "      <th>std</th>\n",
       "      <td>2.859690</td>\n",
       "      <td>2.164561</td>\n",
       "      <td>0.712053</td>\n",
       "      <td>1.310651</td>\n",
       "      <td>5.866296</td>\n",
       "      <td>663.209911</td>\n",
       "      <td>1.360174e+07</td>\n",
       "    </tr>\n",
       "    <tr>\n",
       "      <th>min</th>\n",
       "      <td>0.000000</td>\n",
       "      <td>0.000000</td>\n",
       "      <td>0.000000</td>\n",
       "      <td>0.000000</td>\n",
       "      <td>0.000000</td>\n",
       "      <td>0.000000</td>\n",
       "      <td>1.800000e+06</td>\n",
       "    </tr>\n",
       "    <tr>\n",
       "      <th>25%</th>\n",
       "      <td>0.000000</td>\n",
       "      <td>0.000000</td>\n",
       "      <td>2.500000</td>\n",
       "      <td>0.000000</td>\n",
       "      <td>12.000000</td>\n",
       "      <td>962.570000</td>\n",
       "      <td>1.700000e+07</td>\n",
       "    </tr>\n",
       "    <tr>\n",
       "      <th>50%</th>\n",
       "      <td>4.000000</td>\n",
       "      <td>2.000000</td>\n",
       "      <td>3.000000</td>\n",
       "      <td>1.000000</td>\n",
       "      <td>13.000000</td>\n",
       "      <td>1197.870000</td>\n",
       "      <td>2.350000e+07</td>\n",
       "    </tr>\n",
       "    <tr>\n",
       "      <th>75%</th>\n",
       "      <td>5.000000</td>\n",
       "      <td>4.000000</td>\n",
       "      <td>3.000000</td>\n",
       "      <td>2.000000</td>\n",
       "      <td>15.000000</td>\n",
       "      <td>1619.920000</td>\n",
       "      <td>3.300000e+07</td>\n",
       "    </tr>\n",
       "    <tr>\n",
       "      <th>max</th>\n",
       "      <td>10.000000</td>\n",
       "      <td>8.000000</td>\n",
       "      <td>6.000000</td>\n",
       "      <td>8.000000</td>\n",
       "      <td>25.000000</td>\n",
       "      <td>6014.250000</td>\n",
       "      <td>7.000000e+07</td>\n",
       "    </tr>\n",
       "  </tbody>\n",
       "</table>\n",
       "</div>"
      ],
      "text/plain": [
       "           bedroom     bathroom      floors      parking  roadsize(feet)  \\\n",
       "count  1624.000000  1624.000000  948.000000  1624.000000     1624.000000   \n",
       "mean      3.015394     2.176724    2.750369     0.998768       12.255429   \n",
       "std       2.859690     2.164561    0.712053     1.310651        5.866296   \n",
       "min       0.000000     0.000000    0.000000     0.000000        0.000000   \n",
       "25%       0.000000     0.000000    2.500000     0.000000       12.000000   \n",
       "50%       4.000000     2.000000    3.000000     1.000000       13.000000   \n",
       "75%       5.000000     4.000000    3.000000     2.000000       15.000000   \n",
       "max      10.000000     8.000000    6.000000     8.000000       25.000000   \n",
       "\n",
       "       Area(sq ft)         Price  \n",
       "count  1624.000000  1.624000e+03  \n",
       "mean   1369.061418  2.659940e+07  \n",
       "std     663.209911  1.360174e+07  \n",
       "min       0.000000  1.800000e+06  \n",
       "25%     962.570000  1.700000e+07  \n",
       "50%    1197.870000  2.350000e+07  \n",
       "75%    1619.920000  3.300000e+07  \n",
       "max    6014.250000  7.000000e+07  "
      ]
     },
     "execution_count": 9,
     "metadata": {},
     "output_type": "execute_result"
    }
   ],
   "source": [
    "#housing.describe()"
   ]
  },
  {
   "cell_type": "code",
   "execution_count": 10,
   "metadata": {},
   "outputs": [],
   "source": [
    "#%matplotlib inline"
   ]
  },
  {
   "cell_type": "code",
   "execution_count": 11,
   "metadata": {},
   "outputs": [
    {
     "data": {
      "text/plain": [
       "array([[<AxesSubplot:title={'center':'bedroom'}>,\n",
       "        <AxesSubplot:title={'center':'bathroom'}>,\n",
       "        <AxesSubplot:title={'center':'floors'}>],\n",
       "       [<AxesSubplot:title={'center':'parking'}>,\n",
       "        <AxesSubplot:title={'center':'roadsize(feet)'}>,\n",
       "        <AxesSubplot:title={'center':'Area(sq ft)'}>],\n",
       "       [<AxesSubplot:title={'center':'Price'}>, <AxesSubplot:>,\n",
       "        <AxesSubplot:>]], dtype=object)"
      ]
     },
     "execution_count": 11,
     "metadata": {},
     "output_type": "execute_result"
    },
    {
     "data": {
      "image/png": "[encoded data removed]",
      "text/plain": [
       "<Figure size 1440x1080 with 9 Axes>"
      ]
     },
     "metadata": {
      "needs_background": "light"
     },
     "output_type": "display_data"
    }
   ],
   "source": [
    "# # # For plotting histogram\n",
    "# import matplotlib.pyplot as plt\n",
    "# housing.hist(bins=50, figsize=(20, 15))"
   ]
  },
  {
   "cell_type": "code",
   "execution_count": 12,
   "metadata": {},
   "outputs": [
    {
     "name": "stdout",
     "output_type": "stream",
     "text": [
      "<class 'pandas.core.frame.DataFrame'>\n",
      "RangeIndex: 1624 entries, 0 to 1623\n",
      "Data columns (total 8 columns):\n",
      " #   Column          Non-Null Count  Dtype  \n",
      "---  ------          --------------  -----  \n",
      " 0   bedroom         1624 non-null   int64  \n",
      " 1   bathroom        1624 non-null   int64  \n",
      " 2   floors          948 non-null    float64\n",
      " 3   parking         1624 non-null   int64  \n",
      " 4   roadsize(feet)  1624 non-null   float64\n",
      " 5   Road type       1624 non-null   object \n",
      " 6   Area(sq ft)     1624 non-null   float64\n",
      " 7   Price           1624 non-null   int64  \n",
      "dtypes: float64(3), int64(4), object(1)\n",
      "memory usage: 101.6+ KB\n"
     ]
    }
   ],
   "source": [
    "#housing.info()"
   ]
  },
  {
   "cell_type": "markdown",
   "metadata": {},
   "source": [
    "# Filling Missing values\n",
    "1. Filling N/A values of floors\n"
   ]
  },
  {
   "cell_type": "code",
   "execution_count": 13,
   "metadata": {},
   "outputs": [
    {
     "name": "stdout",
     "output_type": "stream",
     "text": [
      "3.0\n"
     ]
    }
   ],
   "source": [
    "housing=housing.replace('N/A', np.nan)\n",
    "avgfloors=housing['floors'].mean().round(0)\n",
    "avgbathroom=housing['bedroom'].mean().round(0)\n",
    "print(avgfloors)\n"
   ]
  },
  {
   "cell_type": "code",
   "execution_count": 14,
   "metadata": {},
   "outputs": [],
   "source": [
    "housing['floors'] = housing['floors'].replace(np.nan, avgfloors)\n",
    "housing['bathroom']=housing['bedroom'].replace(0,1)"
   ]
  },
  {
   "cell_type": "code",
   "execution_count": 15,
   "metadata": {},
   "outputs": [
    {
     "name": "stdout",
     "output_type": "stream",
     "text": [
      "bedroom                   0\n",
      "bathroom                  1\n",
      "floors                  3.0\n",
      "parking                   0\n",
      "roadsize(feet)         12.0\n",
      "Road type         Gravelled\n",
      "Area(sq ft)         1090.92\n",
      "Price              11500000\n",
      "Name: 6, dtype: object\n"
     ]
    }
   ],
   "source": [
    "print(housing.loc[6])"
   ]
  },
  {
   "cell_type": "code",
   "execution_count": 16,
   "metadata": {},
   "outputs": [
    {
     "data": {
      "text/plain": [
       "16000000.0"
      ]
     },
     "execution_count": 16,
     "metadata": {},
     "output_type": "execute_result"
    }
   ],
   "source": [
    "q3, q1 = np.percentile(housing['Price'], [75 ,25])\n",
    "iqr=q3-q1\n",
    "iqr"
   ]
  },
  {
   "cell_type": "markdown",
   "metadata": {},
   "source": [
    "# Label Encoding: One-Hot Encoder"
   ]
  },
  {
   "cell_type": "code",
   "execution_count": 17,
   "metadata": {},
   "outputs": [],
   "source": [
    "#from sklearn.preprocessing import OneHotEncoder\n",
    "# creating instance of one-hot-encoder\n",
    "#enc = OneHotEncoder(handle_unknown='ignore')"
   ]
  },
  {
   "cell_type": "code",
   "execution_count": 18,
   "metadata": {},
   "outputs": [],
   "source": [
    "#dum_df = pd.get_dummies(housing[['Road type']],prefix=[\"Road\"] )"
   ]
  },
  {
   "cell_type": "code",
   "execution_count": 19,
   "metadata": {},
   "outputs": [],
   "source": [
    "#housing = housing.join(dum_df)\n",
    "#housing"
   ]
  },
  {
   "cell_type": "markdown",
   "metadata": {},
   "source": [
    "# Label Encoding:"
   ]
  },
  {
   "cell_type": "code",
   "execution_count": 20,
   "metadata": {},
   "outputs": [],
   "source": [
    "from sklearn.preprocessing import LabelEncoder"
   ]
  },
  {
   "cell_type": "code",
   "execution_count": 21,
   "metadata": {},
   "outputs": [
    {
     "data": {
      "text/html": [
       "<div>\n",
       "<style scoped>\n",
       "    .dataframe tbody tr th:only-of-type {\n",
       "        vertical-align: middle;\n",
       "    }\n",
       "\n",
       "    .dataframe tbody tr th {\n",
       "        vertical-align: top;\n",
       "    }\n",
       "\n",
       "    .dataframe thead th {\n",
       "        text-align: right;\n",
       "    }\n",
       "</style>\n",
       "<table border=\"1\" class=\"dataframe\">\n",
       "  <thead>\n",
       "    <tr style=\"text-align: right;\">\n",
       "      <th></th>\n",
       "      <th>bedroom</th>\n",
       "      <th>bathroom</th>\n",
       "      <th>floors</th>\n",
       "      <th>parking</th>\n",
       "      <th>roadsize(feet)</th>\n",
       "      <th>Road type</th>\n",
       "      <th>Area(sq ft)</th>\n",
       "      <th>Price</th>\n",
       "    </tr>\n",
       "  </thead>\n",
       "  <tbody>\n",
       "    <tr>\n",
       "      <th>0</th>\n",
       "      <td>0</td>\n",
       "      <td>1</td>\n",
       "      <td>3.0</td>\n",
       "      <td>0</td>\n",
       "      <td>20.0</td>\n",
       "      <td>5</td>\n",
       "      <td>2566.87</td>\n",
       "      <td>36000000</td>\n",
       "    </tr>\n",
       "    <tr>\n",
       "      <th>1</th>\n",
       "      <td>4</td>\n",
       "      <td>4</td>\n",
       "      <td>2.5</td>\n",
       "      <td>1</td>\n",
       "      <td>13.0</td>\n",
       "      <td>3</td>\n",
       "      <td>1026.75</td>\n",
       "      <td>18000000</td>\n",
       "    </tr>\n",
       "    <tr>\n",
       "      <th>2</th>\n",
       "      <td>4</td>\n",
       "      <td>4</td>\n",
       "      <td>3.0</td>\n",
       "      <td>0</td>\n",
       "      <td>13.0</td>\n",
       "      <td>3</td>\n",
       "      <td>855.62</td>\n",
       "      <td>15000000</td>\n",
       "    </tr>\n",
       "    <tr>\n",
       "      <th>3</th>\n",
       "      <td>7</td>\n",
       "      <td>7</td>\n",
       "      <td>2.0</td>\n",
       "      <td>3</td>\n",
       "      <td>15.0</td>\n",
       "      <td>1</td>\n",
       "      <td>2187.00</td>\n",
       "      <td>57000000</td>\n",
       "    </tr>\n",
       "    <tr>\n",
       "      <th>4</th>\n",
       "      <td>7</td>\n",
       "      <td>7</td>\n",
       "      <td>2.5</td>\n",
       "      <td>3</td>\n",
       "      <td>13.0</td>\n",
       "      <td>1</td>\n",
       "      <td>1540.12</td>\n",
       "      <td>24500000</td>\n",
       "    </tr>\n",
       "    <tr>\n",
       "      <th>...</th>\n",
       "      <td>...</td>\n",
       "      <td>...</td>\n",
       "      <td>...</td>\n",
       "      <td>...</td>\n",
       "      <td>...</td>\n",
       "      <td>...</td>\n",
       "      <td>...</td>\n",
       "      <td>...</td>\n",
       "    </tr>\n",
       "    <tr>\n",
       "      <th>1619</th>\n",
       "      <td>0</td>\n",
       "      <td>1</td>\n",
       "      <td>3.0</td>\n",
       "      <td>0</td>\n",
       "      <td>13.0</td>\n",
       "      <td>5</td>\n",
       "      <td>1112.31</td>\n",
       "      <td>18300000</td>\n",
       "    </tr>\n",
       "    <tr>\n",
       "      <th>1620</th>\n",
       "      <td>0</td>\n",
       "      <td>1</td>\n",
       "      <td>1.0</td>\n",
       "      <td>0</td>\n",
       "      <td>10.0</td>\n",
       "      <td>4</td>\n",
       "      <td>1197.87</td>\n",
       "      <td>16500000</td>\n",
       "    </tr>\n",
       "    <tr>\n",
       "      <th>1621</th>\n",
       "      <td>0</td>\n",
       "      <td>1</td>\n",
       "      <td>3.0</td>\n",
       "      <td>0</td>\n",
       "      <td>0.0</td>\n",
       "      <td>5</td>\n",
       "      <td>1711.25</td>\n",
       "      <td>27500000</td>\n",
       "    </tr>\n",
       "    <tr>\n",
       "      <th>1622</th>\n",
       "      <td>3</td>\n",
       "      <td>3</td>\n",
       "      <td>3.0</td>\n",
       "      <td>2</td>\n",
       "      <td>13.0</td>\n",
       "      <td>5</td>\n",
       "      <td>1754.03</td>\n",
       "      <td>34000000</td>\n",
       "    </tr>\n",
       "    <tr>\n",
       "      <th>1623</th>\n",
       "      <td>3</td>\n",
       "      <td>3</td>\n",
       "      <td>2.0</td>\n",
       "      <td>1</td>\n",
       "      <td>14.0</td>\n",
       "      <td>5</td>\n",
       "      <td>2258.00</td>\n",
       "      <td>27000000</td>\n",
       "    </tr>\n",
       "  </tbody>\n",
       "</table>\n",
       "<p>1624 rows × 8 columns</p>\n",
       "</div>"
      ],
      "text/plain": [
       "      bedroom  bathroom  floors  parking  roadsize(feet)  Road type  \\\n",
       "0           0         1     3.0        0            20.0          5   \n",
       "1           4         4     2.5        1            13.0          3   \n",
       "2           4         4     3.0        0            13.0          3   \n",
       "3           7         7     2.0        3            15.0          1   \n",
       "4           7         7     2.5        3            13.0          1   \n",
       "...       ...       ...     ...      ...             ...        ...   \n",
       "1619        0         1     3.0        0            13.0          5   \n",
       "1620        0         1     1.0        0            10.0          4   \n",
       "1621        0         1     3.0        0             0.0          5   \n",
       "1622        3         3     3.0        2            13.0          5   \n",
       "1623        3         3     2.0        1            14.0          5   \n",
       "\n",
       "      Area(sq ft)     Price  \n",
       "0         2566.87  36000000  \n",
       "1         1026.75  18000000  \n",
       "2          855.62  15000000  \n",
       "3         2187.00  57000000  \n",
       "4         1540.12  24500000  \n",
       "...           ...       ...  \n",
       "1619      1112.31  18300000  \n",
       "1620      1197.87  16500000  \n",
       "1621      1711.25  27500000  \n",
       "1622      1754.03  34000000  \n",
       "1623      2258.00  27000000  \n",
       "\n",
       "[1624 rows x 8 columns]"
      ]
     },
     "execution_count": 21,
     "metadata": {},
     "output_type": "execute_result"
    }
   ],
   "source": [
    "labelencoder = LabelEncoder()\n",
    "housing['Road type'] = labelencoder.fit_transform(housing['Road type'])\n",
    "#housing"
   ]
  },
  {
   "cell_type": "code",
   "execution_count": 22,
   "metadata": {},
   "outputs": [
    {
     "data": {
      "text/plain": [
       "5    700\n",
       "1    411\n",
       "3    408\n",
       "4     83\n",
       "2     19\n",
       "0      3\n",
       "Name: Road type, dtype: int64"
      ]
     },
     "execution_count": 22,
     "metadata": {},
     "output_type": "execute_result"
    }
   ],
   "source": [
    "#housing['Road type'].value_counts()"
   ]
  },
  {
   "cell_type": "code",
   "execution_count": 23,
   "metadata": {},
   "outputs": [
    {
     "data": {
      "text/plain": [
       "3.00    1228\n",
       "2.00     127\n",
       "2.50     113\n",
       "4.00      57\n",
       "1.00      49\n",
       "1.50      23\n",
       "3.50      14\n",
       "5.00       7\n",
       "6.00       3\n",
       "0.00       2\n",
       "1.35       1\n",
       "Name: floors, dtype: int64"
      ]
     },
     "execution_count": 23,
     "metadata": {},
     "output_type": "execute_result"
    }
   ],
   "source": [
    "#housing['floors'].value_counts()"
   ]
  },
  {
   "cell_type": "code",
   "execution_count": 24,
   "metadata": {},
   "outputs": [
    {
     "data": {
      "text/html": [
       "<div>\n",
       "<style scoped>\n",
       "    .dataframe tbody tr th:only-of-type {\n",
       "        vertical-align: middle;\n",
       "    }\n",
       "\n",
       "    .dataframe tbody tr th {\n",
       "        vertical-align: top;\n",
       "    }\n",
       "\n",
       "    .dataframe thead th {\n",
       "        text-align: right;\n",
       "    }\n",
       "</style>\n",
       "<table border=\"1\" class=\"dataframe\">\n",
       "  <thead>\n",
       "    <tr style=\"text-align: right;\">\n",
       "      <th></th>\n",
       "      <th>bedroom</th>\n",
       "      <th>bathroom</th>\n",
       "      <th>floors</th>\n",
       "      <th>parking</th>\n",
       "      <th>roadsize(feet)</th>\n",
       "      <th>Road type</th>\n",
       "      <th>Area(sq ft)</th>\n",
       "      <th>Price</th>\n",
       "    </tr>\n",
       "  </thead>\n",
       "  <tbody>\n",
       "    <tr>\n",
       "      <th>0</th>\n",
       "      <td>0</td>\n",
       "      <td>1</td>\n",
       "      <td>3.0</td>\n",
       "      <td>0</td>\n",
       "      <td>20.0</td>\n",
       "      <td>5</td>\n",
       "      <td>2566.87</td>\n",
       "      <td>36000000</td>\n",
       "    </tr>\n",
       "    <tr>\n",
       "      <th>1</th>\n",
       "      <td>4</td>\n",
       "      <td>4</td>\n",
       "      <td>2.5</td>\n",
       "      <td>1</td>\n",
       "      <td>13.0</td>\n",
       "      <td>3</td>\n",
       "      <td>1026.75</td>\n",
       "      <td>18000000</td>\n",
       "    </tr>\n",
       "    <tr>\n",
       "      <th>2</th>\n",
       "      <td>4</td>\n",
       "      <td>4</td>\n",
       "      <td>3.0</td>\n",
       "      <td>0</td>\n",
       "      <td>13.0</td>\n",
       "      <td>3</td>\n",
       "      <td>855.62</td>\n",
       "      <td>15000000</td>\n",
       "    </tr>\n",
       "    <tr>\n",
       "      <th>3</th>\n",
       "      <td>7</td>\n",
       "      <td>7</td>\n",
       "      <td>2.0</td>\n",
       "      <td>3</td>\n",
       "      <td>15.0</td>\n",
       "      <td>1</td>\n",
       "      <td>2187.00</td>\n",
       "      <td>57000000</td>\n",
       "    </tr>\n",
       "    <tr>\n",
       "      <th>4</th>\n",
       "      <td>7</td>\n",
       "      <td>7</td>\n",
       "      <td>2.5</td>\n",
       "      <td>3</td>\n",
       "      <td>13.0</td>\n",
       "      <td>1</td>\n",
       "      <td>1540.12</td>\n",
       "      <td>24500000</td>\n",
       "    </tr>\n",
       "  </tbody>\n",
       "</table>\n",
       "</div>"
      ],
      "text/plain": [
       "   bedroom  bathroom  floors  parking  roadsize(feet)  Road type  Area(sq ft)  \\\n",
       "0        0         1     3.0        0            20.0          5      2566.87   \n",
       "1        4         4     2.5        1            13.0          3      1026.75   \n",
       "2        4         4     3.0        0            13.0          3       855.62   \n",
       "3        7         7     2.0        3            15.0          1      2187.00   \n",
       "4        7         7     2.5        3            13.0          1      1540.12   \n",
       "\n",
       "      Price  \n",
       "0  36000000  \n",
       "1  18000000  \n",
       "2  15000000  \n",
       "3  57000000  \n",
       "4  24500000  "
      ]
     },
     "execution_count": 24,
     "metadata": {},
     "output_type": "execute_result"
    }
   ],
   "source": [
    "#housing.head()"
   ]
  },
  {
   "cell_type": "markdown",
   "metadata": {},
   "source": [
    "# Normalization vs Standardization"
   ]
  },
  {
   "cell_type": "code",
   "execution_count": 25,
   "metadata": {},
   "outputs": [],
   "source": [
    "# import pandas as pd\n",
    "# from sklearn import preprocessing\n",
    "\n",
    "# x = housing.values #returns a numpy array\n",
    "# min_max_scaler = preprocessing.MinMaxScaler()\n",
    "# x_scaled = min_max_scaler.fit_transform(x)\n",
    "# housing = pd.DataFrame(x_scaled,columns = housing.columns)"
   ]
  },
  {
   "cell_type": "code",
   "execution_count": 26,
   "metadata": {},
   "outputs": [],
   "source": [
    "\n",
    "# from sklearn.preprocessing import StandardScaler\n",
    "# object= StandardScaler()\n",
    "\n",
    "# # standardization \n",
    "# x_scaled= object.fit_transform(housing) \n",
    "# housing = pd.DataFrame(x_scaled,columns = housing.columns)\n"
   ]
  },
  {
   "cell_type": "code",
   "execution_count": 27,
   "metadata": {},
   "outputs": [],
   "source": [
    "#housing.head()"
   ]
  },
  {
   "cell_type": "markdown",
   "metadata": {},
   "source": [
    "# Train-Test Splitting"
   ]
  },
  {
   "cell_type": "markdown",
   "metadata": {},
   "source": [
    "# Sklearn train_test_split"
   ]
  },
  {
   "cell_type": "code",
   "execution_count": 28,
   "metadata": {
    "tags": []
   },
   "outputs": [],
   "source": [
    "# from sklearn.model_selection import train_test_split\n",
    "# train_set, test_set  = train_test_split(housing, test_size=0.2, random_state=42)\n",
    "# print(f\"Rows in train set: {len(train_set)}\\nRows in test set: {len(test_set)}\\n\")"
   ]
  },
  {
   "cell_type": "code",
   "execution_count": 29,
   "metadata": {},
   "outputs": [],
   "source": [
    "from sklearn.model_selection import StratifiedShuffleSplit\n",
    "split = StratifiedShuffleSplit(n_splits=1, test_size=0.2, random_state=42)\n",
    "for train_index, test_index in split.split(housing,housing['bathroom']):\n",
    "     strat_train_set = housing.loc[train_index]\n",
    "     strat_test_set = housing.loc[test_index]"
   ]
  },
  {
   "cell_type": "code",
   "execution_count": 30,
   "metadata": {},
   "outputs": [
    {
     "data": {
      "text/plain": [
       "1     134\n",
       "5      49\n",
       "4      43\n",
       "6      37\n",
       "7      17\n",
       "3      15\n",
       "2      14\n",
       "8       7\n",
       "10      5\n",
       "9       4\n",
       "Name: bathroom, dtype: int64"
      ]
     },
     "execution_count": 30,
     "metadata": {},
     "output_type": "execute_result"
    }
   ],
   "source": [
    " #strat_test_set['bathroom'].value_counts()"
   ]
  },
  {
   "cell_type": "code",
   "execution_count": 31,
   "metadata": {},
   "outputs": [
    {
     "data": {
      "text/plain": [
       "1     533\n",
       "5     194\n",
       "4     172\n",
       "6     149\n",
       "7      67\n",
       "3      58\n",
       "2      57\n",
       "8      30\n",
       "10     22\n",
       "9      17\n",
       "Name: bathroom, dtype: int64"
      ]
     },
     "execution_count": 31,
     "metadata": {},
     "output_type": "execute_result"
    }
   ],
   "source": [
    "#strat_train_set['bathroom'].value_counts()"
   ]
  },
  {
   "cell_type": "code",
   "execution_count": 32,
   "metadata": {},
   "outputs": [],
   "source": [
    "# strat_train_set['bedroom'].value_counts()\n"
   ]
  },
  {
   "cell_type": "markdown",
   "metadata": {},
   "source": [
    "## Looking for Correlations"
   ]
  },
  {
   "cell_type": "code",
   "execution_count": 33,
   "metadata": {
    "scrolled": true
   },
   "outputs": [
    {
     "data": {
      "text/plain": [
       "Price             1.000000\n",
       "Area(sq ft)       0.444660\n",
       "parking           0.409572\n",
       "bathroom          0.265334\n",
       "bedroom           0.261856\n",
       "roadsize(feet)    0.252386\n",
       "floors            0.202923\n",
       "Road type        -0.255826\n",
       "Name: Price, dtype: float64"
      ]
     },
     "execution_count": 33,
     "metadata": {},
     "output_type": "execute_result"
    }
   ],
   "source": [
    "# corr_matrix = housing.corr()\n",
    "# corr_matrix['Price'].sort_values(ascending=False)"
   ]
  },
  {
   "cell_type": "markdown",
   "metadata": {},
   "source": [
    "## Relationship"
   ]
  },
  {
   "cell_type": "code",
   "execution_count": 34,
   "metadata": {},
   "outputs": [
    {
     "data": {
      "text/plain": [
       "[Text(0.5, 1.0, 'Median Price of Houses'),\n",
       " Text(0.5, 0, 'Price (NRS)'),\n",
       " Text(0, 0.5, 'Bedroom')]"
      ]
     },
     "execution_count": 34,
     "metadata": {},
     "output_type": "execute_result"
    },
    {
     "data": {
      "image/png": "[encoded data removed]",
      "text/plain": [
       "<Figure size 432x288 with 1 Axes>"
      ]
     },
     "metadata": {
      "needs_background": "light"
     },
     "output_type": "display_data"
    }
   ],
   "source": [
    "# price_area_median = housing.groupby('Area(sq ft)').median()['Price']\n",
    "# price_area_median\n",
    "# # Create figure and subplot\n",
    "# fig = plt.figure()\n",
    "# ax1 = fig.add_subplot(1,1,1)\n",
    "\n",
    "# # Create plot with median data\n",
    "# ax1.plot(price_area_median.index, price_area_median, color='r', label='Median')\n",
    "# ax1.legend(loc='best')\n",
    "\n",
    "# # Adding labels to the axis and title\n",
    "# props1 = {'title':'Median Price of Houses',\n",
    "#          'xlabel':'Price (NRS)',\n",
    "#          'ylabel':'Bedroom'}\n",
    "# ax1.set(**props1)"
   ]
  },
  {
   "cell_type": "code",
   "execution_count": 35,
   "metadata": {},
   "outputs": [
    {
     "data": {
      "text/plain": [
       "[Text(0.5, 1.0, 'Median Price of Houses'),\n",
       " Text(0.5, 0, 'Area(sq ft)'),\n",
       " Text(0, 0.5, 'Price (NRS)')]"
      ]
     },
     "execution_count": 35,
     "metadata": {},
     "output_type": "execute_result"
    },
    {
     "data": {
      "image/png": "[encoded data removed]",
      "text/plain": [
       "<Figure size 432x288 with 1 Axes>"
      ]
     },
     "metadata": {
      "needs_background": "light"
     },
     "output_type": "display_data"
    }
   ],
   "source": [
    "# price_bath_median = housing.groupby('bathroom').median()['Price']\n",
    "# price_bath_median\n",
    "# # Create figure and subplot\n",
    "# fig = plt.figure()\n",
    "# ax1 = fig.add_subplot(1,1,1)\n",
    "\n",
    "# # Create plot with median data\n",
    "# ax1.plot(price_bath_median.index, price_bath_median, color='r', label='Median')\n",
    "# ax1.legend(loc='best')\n",
    "\n",
    "# # Adding labels to the axis and title\n",
    "# props1 = {'title':'Median Price of Houses',\n",
    "#          'xlabel':'Area(sq ft)',\n",
    "#          'ylabel':'Price (NRS)'}\n",
    "# ax1.set(**props1)"
   ]
  },
  {
   "cell_type": "code",
   "execution_count": 36,
   "metadata": {},
   "outputs": [
    {
     "data": {
      "text/plain": [
       "[Text(0.5, 1.0, 'Median Price of Houses'),\n",
       " Text(0.5, 0, 'Bedroom'),\n",
       " Text(0, 0.5, 'Price (NRS)')]"
      ]
     },
     "execution_count": 36,
     "metadata": {},
     "output_type": "execute_result"
    },
    {
     "data": {
      "image/png": "[encoded data removed]",
      "text/plain": [
       "<Figure size 432x288 with 1 Axes>"
      ]
     },
     "metadata": {
      "needs_background": "light"
     },
     "output_type": "display_data"
    }
   ],
   "source": [
    "# price_bed_median = housing.groupby('floors').median()['Price']\n",
    "# price_bed_median\n",
    "# # Create figure and subplot\n",
    "# fig = plt.figure()\n",
    "# ax1 = fig.add_subplot(1,1,1)\n",
    "\n",
    "# # Create plot with median data\n",
    "# ax1.plot(price_bed_median.index, price_bed_median, color='r', label='Median')\n",
    "# ax1.legend(loc='best')\n",
    "\n",
    "# # Adding labels to the axis and title\n",
    "# props1 = {'title':'Median Price of Houses',\n",
    "#          'xlabel':'Bedroom',\n",
    "#          'ylabel':'Price (NRS)'}\n",
    "# ax1.set(**props1)"
   ]
  },
  {
   "cell_type": "code",
   "execution_count": 37,
   "metadata": {},
   "outputs": [
    {
     "data": {
      "text/plain": [
       "(1299, 8)"
      ]
     },
     "execution_count": 37,
     "metadata": {},
     "output_type": "execute_result"
    }
   ],
   "source": [
    "# strat_train_set.shape"
   ]
  },
  {
   "cell_type": "code",
   "execution_count": 38,
   "metadata": {},
   "outputs": [
    {
     "data": {
      "text/plain": [
       "(325, 8)"
      ]
     },
     "execution_count": 38,
     "metadata": {},
     "output_type": "execute_result"
    }
   ],
   "source": [
    "# strat_test_set.shape"
   ]
  },
  {
   "cell_type": "code",
   "execution_count": 39,
   "metadata": {},
   "outputs": [],
   "source": [
    "housing_tr=strat_train_set.drop(\"Price\", axis=1)"
   ]
  },
  {
   "cell_type": "code",
   "execution_count": 40,
   "metadata": {},
   "outputs": [],
   "source": [
    "housing_price=strat_train_set[\"Price\"].copy()"
   ]
  },
  {
   "cell_type": "code",
   "execution_count": 41,
   "metadata": {},
   "outputs": [],
   "source": [
    "housing_te=strat_test_set.drop(\"Price\", axis=1)"
   ]
  },
  {
   "cell_type": "code",
   "execution_count": 42,
   "metadata": {},
   "outputs": [],
   "source": [
    "housing_price_te=strat_test_set[\"Price\"].copy()"
   ]
  },
  {
   "cell_type": "code",
   "execution_count": 43,
   "metadata": {},
   "outputs": [
    {
     "data": {
      "text/plain": [
       "count    3.250000e+02\n",
       "mean     2.554646e+07\n",
       "std      1.287982e+07\n",
       "min      4.000000e+06\n",
       "25%      1.650000e+07\n",
       "50%      2.300000e+07\n",
       "75%      3.100000e+07\n",
       "max      7.000000e+07\n",
       "Name: Price, dtype: float64"
      ]
     },
     "execution_count": 43,
     "metadata": {},
     "output_type": "execute_result"
    }
   ],
   "source": [
    "# housing_price_te.describe()"
   ]
  },
  {
   "cell_type": "markdown",
   "metadata": {},
   "source": [
    "## Selecting a desired model and training it"
   ]
  },
  {
   "cell_type": "code",
   "execution_count": 44,
   "metadata": {},
   "outputs": [
    {
     "data": {
      "text/plain": [
       "LinearRegression()"
      ]
     },
     "execution_count": 44,
     "metadata": {},
     "output_type": "execute_result"
    }
   ],
   "source": [
    "from sklearn.linear_model import LinearRegression\n",
    "from sklearn.tree import DecisionTreeRegressor\n",
    "from sklearn.ensemble import RandomForestRegressor\n",
    "model = LinearRegression()\n",
    "#model = DecisionTreeRegressor()\n",
    "#model = RandomForestRegressor()\n",
    "model.fit(housing_tr, housing_price)"
   ]
  },
  {
   "cell_type": "code",
   "execution_count": 45,
   "metadata": {},
   "outputs": [],
   "source": [
    "some_data = housing_tr.iloc[:4]"
   ]
  },
  {
   "cell_type": "code",
   "execution_count": 46,
   "metadata": {},
   "outputs": [],
   "source": [
    "some_labels = housing_price.iloc[:4]"
   ]
  },
  {
   "cell_type": "code",
   "execution_count": null,
   "metadata": {},
   "outputs": [],
   "source": []
  },
  {
   "cell_type": "code",
   "execution_count": 47,
   "metadata": {},
   "outputs": [
    {
     "data": {
      "text/plain": [
       "array([22953037.73193805, 16838851.36147274, 37651707.95274757,\n",
       "       30431488.78460015])"
      ]
     },
     "execution_count": 47,
     "metadata": {},
     "output_type": "execute_result"
    }
   ],
   "source": [
    "model.predict(some_data)"
   ]
  },
  {
   "cell_type": "code",
   "execution_count": 48,
   "metadata": {},
   "outputs": [
    {
     "data": {
      "text/plain": [
       "[8500000, 15500000, 50000000, 17000000]"
      ]
     },
     "execution_count": 48,
     "metadata": {},
     "output_type": "execute_result"
    }
   ],
   "source": [
    "list(some_labels)"
   ]
  },
  {
   "cell_type": "markdown",
   "metadata": {},
   "source": [
    "## Evaluating the model"
   ]
  },
  {
   "cell_type": "code",
   "execution_count": 49,
   "metadata": {},
   "outputs": [],
   "source": [
    "from sklearn.metrics import mean_squared_error\n",
    "housing_predictions = model.predict(housing_tr)\n",
    "mse = mean_squared_error(housing_price, housing_predictions)\n",
    "rmse = np.sqrt(mse)"
   ]
  },
  {
   "cell_type": "code",
   "execution_count": 50,
   "metadata": {},
   "outputs": [
    {
     "data": {
      "text/plain": [
       "0.6724607427598669"
      ]
     },
     "execution_count": 50,
     "metadata": {},
     "output_type": "execute_result"
    }
   ],
   "source": [
    "rmse/iqr"
   ]
  },
  {
   "cell_type": "code",
   "execution_count": 51,
   "metadata": {},
   "outputs": [
    {
     "data": {
      "text/plain": [
       "7235255.208850429"
      ]
     },
     "execution_count": 51,
     "metadata": {},
     "output_type": "execute_result"
    }
   ],
   "source": [
    "\n",
    "mse/iqr"
   ]
  },
  {
   "cell_type": "markdown",
   "metadata": {},
   "source": [
    "## Saving the model"
   ]
  },
  {
   "cell_type": "code",
   "execution_count": 52,
   "metadata": {},
   "outputs": [
    {
     "data": {
      "text/plain": [
       "['project.joblib']"
      ]
     },
     "execution_count": 52,
     "metadata": {},
     "output_type": "execute_result"
    }
   ],
   "source": [
    "from joblib import dump, load\n",
    "dump(model, 'project.joblib') "
   ]
  },
  {
   "cell_type": "markdown",
   "metadata": {},
   "source": [
    "## Testing the model on test data"
   ]
  },
  {
   "cell_type": "code",
   "execution_count": 53,
   "metadata": {
    "scrolled": true
   },
   "outputs": [],
   "source": [
    "\n",
    "final_predictions = model.predict(housing_te)\n",
    "final_mse = mean_squared_error(housing_price_te, final_predictions)\n",
    "final_rmse = np.sqrt(final_mse)\n",
    "# print(final_predictions, list(Y_test))"
   ]
  },
  {
   "cell_type": "code",
   "execution_count": 54,
   "metadata": {},
   "outputs": [],
   "source": [
    "NRMSE=final_rmse/14500000\n",
    "NMSE=final_mse/14500000"
   ]
  },
  {
   "cell_type": "code",
   "execution_count": 55,
   "metadata": {},
   "outputs": [
    {
     "name": "stdout",
     "output_type": "stream",
     "text": [
      "The Normalized Mean Squared Error and Normalized Root Mean Squared Error is 7552187.014205088 and 0.7216927904158956 respectively.\n"
     ]
    }
   ],
   "source": [
    "print(\"The Normalized Mean Squared Error and Normalized Root Mean Squared Error is\",NMSE,\"and\",NRMSE,\"respectively.\")"
   ]
  },
  {
   "cell_type": "markdown",
   "metadata": {},
   "source": [
    "# Result Analysis"
   ]
  },
  {
   "cell_type": "code",
   "execution_count": 56,
   "metadata": {},
   "outputs": [
    {
     "data": {
      "text/plain": [
       "<function matplotlib.pyplot.show(close=None, block=None)>"
      ]
     },
     "execution_count": 56,
     "metadata": {},
     "output_type": "execute_result"
    },
    {
     "data": {
      "image/png": "[encoded data removed]",
      "text/plain": [
       "<Figure size 432x288 with 1 Axes>"
      ]
     },
     "metadata": {
      "needs_background": "light"
     },
     "output_type": "display_data"
    }
   ],
   "source": [
    "import matplotlib.pyplot as plot\n",
    "plot.plot(housing_predictions,housing_predictions, color='green')\n",
    "plot.scatter(housing_price,housing_predictions)\n",
    "plot.title('Actual Price vs Predicted Price(Train Data)')\n",
    "plot.xlabel('Actual Price(blue)')\n",
    "plot.ylabel('Predicted Price(green)')\n",
    "plot.show"
   ]
  },
  {
   "cell_type": "code",
   "execution_count": 57,
   "metadata": {},
   "outputs": [
    {
     "data": {
      "text/plain": [
       "<function matplotlib.pyplot.show(close=None, block=None)>"
      ]
     },
     "execution_count": 57,
     "metadata": {},
     "output_type": "execute_result"
    },
    {
     "data": {
      "image/png": "[encoded data removed]",
      "text/plain": [
       "<Figure size 432x288 with 1 Axes>"
      ]
     },
     "metadata": {
      "needs_background": "light"
     },
     "output_type": "display_data"
    }
   ],
   "source": [
    "import matplotlib.pyplot as plot\n",
    "plot.plot(final_predictions,final_predictions, color='green')\n",
    "plot.scatter(housing_price_te,final_predictions)\n",
    "plot.title('Actual Price vs Predicted Price(Test Data)')\n",
    "plot.xlabel('Actual Price(blue)')\n",
    "plot.ylabel('Predicted Price(green)')\n",
    "plot.show"
   ]
  },
  {
   "cell_type": "markdown",
   "metadata": {},
   "source": [
    "## Using the model"
   ]
  },
  {
   "cell_type": "code",
   "execution_count": 58,
   "metadata": {},
   "outputs": [
    {
     "name": "stdout",
     "output_type": "stream",
     "text": [
      "[27850257.80142898]\n"
     ]
    },
    {
     "name": "stderr",
     "output_type": "stream",
     "text": [
      "C:\\Users\\milan\\AppData\\Local\\Programs\\Python\\Python310\\lib\\site-packages\\sklearn\\base.py:450: UserWarning: X does not have valid feature names, but LinearRegression was fitted with feature names\n",
      "  warnings.warn(\n"
     ]
    }
   ],
   "source": [
    "from joblib import dump, load\n",
    "import numpy as np\n",
    "model = load('project.joblib') \n",
    "features = np.array([[3,3,3.0,1,13.0,5,1755.75]])\n",
    "y=model.predict(features)\n",
    "print(y)"
   ]
  },
  {
   "cell_type": "code",
   "execution_count": 59,
   "metadata": {},
   "outputs": [
    {
     "data": {
      "text/plain": [
       "Index(['bedroom', 'bathroom', 'floors', 'parking', 'roadsize(feet)',\n",
       "       'Road type', 'Area(sq ft)', 'Price'],\n",
       "      dtype='object')"
      ]
     },
     "execution_count": 59,
     "metadata": {},
     "output_type": "execute_result"
    }
   ],
   "source": [
    "housing.columns"
   ]
  },
  {
   "cell_type": "code",
   "execution_count": 60,
   "metadata": {},
   "outputs": [
    {
     "data": {
      "text/plain": [
       "(3, 5, 3.0, 2, 13.0, 5, 1754.03)"
      ]
     },
     "execution_count": 60,
     "metadata": {},
     "output_type": "execute_result"
    }
   ],
   "source": [
    "3,5,3.0,2,13.0,5,1754.03"
   ]
  },
  {
   "cell_type": "code",
   "execution_count": 61,
   "metadata": {},
   "outputs": [],
   "source": [
    "def features(bedroom, bathroom, floors, parking, roadsize,\n",
    "    Road_type, Area_sq_ft):\n",
    "    x = np.array([bedroom, bathroom, floors, parking, roadsize,\n",
    "    Road_type, Area_sq_ft])\n",
    "    prediction = model.predict(x.reshape(1, -1))\n",
    "    return f\"RS. {prediction.round(0)}\""
   ]
  },
  {
   "cell_type": "code",
   "execution_count": 62,
   "metadata": {},
   "outputs": [],
   "source": [
    "import gradio as gr\n",
    "outputs = gr.outputs.Textbox()\n",
    "a=gr.inputs.Dropdown([\"1\", \"2\", \"3\",\"4\",\"5\"])\n",
    "app = gr.Interface(fn=features,article =\"Road Type Index (Select a value as shown below)\\n\\n1=Blacktopped\\n\\n2=Concrete\\n\\n3=Gravelled\\n\\n4=Paved\\n\\n5=Soil Stabilized\", inputs=['number','number','number','number','number',a,'number'],description=\"This model predicts the price of houses of Kathmandu.\",outputs=outputs)"
   ]
  },
  {
   "cell_type": "code",
   "execution_count": 63,
   "metadata": {},
   "outputs": [
    {
     "name": "stdout",
     "output_type": "stream",
     "text": [
      "Running on local URL:  http://127.0.0.1:7860/\n",
      "\n",
      "To create a public link, set `share=True` in `launch()`.\n"
     ]
    },
    {
     "data": {
      "text/html": [
       "\n",
       "        <iframe\n",
       "            width=\"900\"\n",
       "            height=\"500\"\n",
       "            src=\"http://127.0.0.1:7860/\"\n",
       "            frameborder=\"0\"\n",
       "            allowfullscreen\n",
       "            \n",
       "        ></iframe>\n",
       "        "
      ],
      "text/plain": [
       "<IPython.lib.display.IFrame at 0x1b68c678220>"
      ]
     },
     "metadata": {},
     "output_type": "display_data"
    },
    {
     "data": {
      "text/plain": [
       "(<fastapi.applications.FastAPI at 0x1b68bd66e60>,\n",
       " 'http://127.0.0.1:7860/',\n",
       " None)"
      ]
     },
     "execution_count": 63,
     "metadata": {},
     "output_type": "execute_result"
    },
    {
     "name": "stderr",
     "output_type": "stream",
     "text": [
      "C:\\Users\\milan\\AppData\\Local\\Programs\\Python\\Python310\\lib\\site-packages\\sklearn\\base.py:450: UserWarning: X does not have valid feature names, but LinearRegression was fitted with feature names\n",
      "  warnings.warn(\n",
      "C:\\Users\\milan\\AppData\\Local\\Programs\\Python\\Python310\\lib\\site-packages\\sklearn\\base.py:566: FutureWarning: Arrays of bytes/strings is being converted to decimal numbers if dtype='numeric'. This behavior is deprecated in 0.24 and will be removed in 1.1 (renaming of 0.26). Please convert your data to numeric values explicitly instead.\n",
      "  X = check_array(X, **check_params)\n",
      "C:\\Users\\milan\\AppData\\Local\\Programs\\Python\\Python310\\lib\\site-packages\\sklearn\\base.py:450: UserWarning: X does not have valid feature names, but LinearRegression was fitted with feature names\n",
      "  warnings.warn(\n",
      "C:\\Users\\milan\\AppData\\Local\\Programs\\Python\\Python310\\lib\\site-packages\\sklearn\\base.py:566: FutureWarning: Arrays of bytes/strings is being converted to decimal numbers if dtype='numeric'. This behavior is deprecated in 0.24 and will be removed in 1.1 (renaming of 0.26). Please convert your data to numeric values explicitly instead.\n",
      "  X = check_array(X, **check_params)\n"
     ]
    }
   ],
   "source": [
    "app.launch()"
   ]
  },
  {
   "cell_type": "code",
   "execution_count": null,
   "metadata": {},
   "outputs": [],
   "source": []
  },
  {
   "cell_type": "code",
   "execution_count": null,
   "metadata": {},
   "outputs": [],
   "source": []
  },
  {
   "cell_type": "code",
   "execution_count": null,
   "metadata": {},
   "outputs": [],
   "source": []
  },
  {
   "cell_type": "code",
   "execution_count": null,
   "metadata": {},
   "outputs": [],
   "source": []
  }
 ],
 "metadata": {
  "kernelspec": {
   "display_name": "Python 3 (ipykernel)",
   "language": "python",
   "name": "python3"
  },
  "language_info": {
   "codemirror_mode": {
    "name": "ipython",
    "version": 3
   },
   "file_extension": ".py",
   "mimetype": "text/x-python",
   "name": "python",
   "nbconvert_exporter": "python",
   "pygments_lexer": "ipython3",
   "version": "3.10.2"
  }
 },
 "nbformat": 4,
 "nbformat_minor": 4
}
